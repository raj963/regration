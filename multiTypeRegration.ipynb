{
  "nbformat": 4,
  "nbformat_minor": 0,
  "metadata": {
    "colab": {
      "name": "multiTypeRegration.ipynb",
      "provenance": [],
      "include_colab_link": true
    },
    "kernelspec": {
      "name": "python3",
      "display_name": "Python 3"
    }
  },
  "cells": [
    {
      "cell_type": "markdown",
      "metadata": {
        "id": "view-in-github",
        "colab_type": "text"
      },
      "source": [
        "<a href=\"https://colab.research.google.com/github/raj963/regration/blob/master/multiTypeRegration.ipynb\" target=\"_parent\"><img src=\"https://colab.research.google.com/assets/colab-badge.svg\" alt=\"Open In Colab\"/></a>"
      ]
    },
    {
      "cell_type": "code",
      "metadata": {
        "id": "p_MYnHmQvDRs",
        "colab_type": "code",
        "colab": {}
      },
      "source": [
        "import pandas as pd\n",
        "\n",
        "import matplotlib.pyplot as plt\n",
        "\n",
        "from sklearn.model_selection import train_test_split\n",
        "from sklearn.metrics import r2_score"
      ],
      "execution_count": 0,
      "outputs": []
    },
    {
      "cell_type": "code",
      "metadata": {
        "id": "OhFzRo5dvEwN",
        "colab_type": "code",
        "colab": {
          "base_uri": "https://localhost:8080/",
          "height": 262
        },
        "outputId": "ecb406c9-641b-49ec-b2fb-41cf5f230048"
      },
      "source": [
        "data = pd.read_csv('datasets/diamonds_processed.csv', index_col=0)\n",
        "\n",
        "data.head()"
      ],
      "execution_count": 3,
      "outputs": [
        {
          "output_type": "execute_result",
          "data": {
            "text/html": [
              "<div>\n",
              "<style scoped>\n",
              "    .dataframe tbody tr th:only-of-type {\n",
              "        vertical-align: middle;\n",
              "    }\n",
              "\n",
              "    .dataframe tbody tr th {\n",
              "        vertical-align: top;\n",
              "    }\n",
              "\n",
              "    .dataframe thead th {\n",
              "        text-align: right;\n",
              "    }\n",
              "</style>\n",
              "<table border=\"1\" class=\"dataframe\">\n",
              "  <thead>\n",
              "    <tr style=\"text-align: right;\">\n",
              "      <th></th>\n",
              "      <th>price</th>\n",
              "      <th>cut_Fair</th>\n",
              "      <th>cut_Good</th>\n",
              "      <th>cut_Ideal</th>\n",
              "      <th>cut_Premium</th>\n",
              "      <th>cut_Very Good</th>\n",
              "      <th>color_D</th>\n",
              "      <th>color_E</th>\n",
              "      <th>color_F</th>\n",
              "      <th>color_G</th>\n",
              "      <th>color_H</th>\n",
              "      <th>color_I</th>\n",
              "      <th>color_J</th>\n",
              "      <th>carat</th>\n",
              "      <th>depth</th>\n",
              "      <th>table</th>\n",
              "      <th>x</th>\n",
              "      <th>y</th>\n",
              "      <th>z</th>\n",
              "    </tr>\n",
              "    <tr>\n",
              "      <th>clarity</th>\n",
              "      <th></th>\n",
              "      <th></th>\n",
              "      <th></th>\n",
              "      <th></th>\n",
              "      <th></th>\n",
              "      <th></th>\n",
              "      <th></th>\n",
              "      <th></th>\n",
              "      <th></th>\n",
              "      <th></th>\n",
              "      <th></th>\n",
              "      <th></th>\n",
              "      <th></th>\n",
              "      <th></th>\n",
              "      <th></th>\n",
              "      <th></th>\n",
              "      <th></th>\n",
              "      <th></th>\n",
              "      <th></th>\n",
              "    </tr>\n",
              "  </thead>\n",
              "  <tbody>\n",
              "    <tr>\n",
              "      <th>5</th>\n",
              "      <td>2347</td>\n",
              "      <td>0</td>\n",
              "      <td>0</td>\n",
              "      <td>1</td>\n",
              "      <td>0</td>\n",
              "      <td>0</td>\n",
              "      <td>0</td>\n",
              "      <td>0</td>\n",
              "      <td>0</td>\n",
              "      <td>1</td>\n",
              "      <td>0</td>\n",
              "      <td>0</td>\n",
              "      <td>0</td>\n",
              "      <td>-0.426762</td>\n",
              "      <td>0.183806</td>\n",
              "      <td>-0.215603</td>\n",
              "      <td>-0.297549</td>\n",
              "      <td>-0.252463</td>\n",
              "      <td>-0.237666</td>\n",
              "    </tr>\n",
              "    <tr>\n",
              "      <th>3</th>\n",
              "      <td>17108</td>\n",
              "      <td>0</td>\n",
              "      <td>0</td>\n",
              "      <td>1</td>\n",
              "      <td>0</td>\n",
              "      <td>0</td>\n",
              "      <td>0</td>\n",
              "      <td>0</td>\n",
              "      <td>1</td>\n",
              "      <td>0</td>\n",
              "      <td>0</td>\n",
              "      <td>0</td>\n",
              "      <td>0</td>\n",
              "      <td>1.588656</td>\n",
              "      <td>0.183806</td>\n",
              "      <td>-1.102293</td>\n",
              "      <td>1.480844</td>\n",
              "      <td>1.486613</td>\n",
              "      <td>1.420743</td>\n",
              "    </tr>\n",
              "    <tr>\n",
              "      <th>5</th>\n",
              "      <td>1838</td>\n",
              "      <td>0</td>\n",
              "      <td>0</td>\n",
              "      <td>1</td>\n",
              "      <td>0</td>\n",
              "      <td>0</td>\n",
              "      <td>0</td>\n",
              "      <td>0</td>\n",
              "      <td>0</td>\n",
              "      <td>1</td>\n",
              "      <td>0</td>\n",
              "      <td>0</td>\n",
              "      <td>0</td>\n",
              "      <td>-0.636701</td>\n",
              "      <td>0.183806</td>\n",
              "      <td>-0.658948</td>\n",
              "      <td>-0.582092</td>\n",
              "      <td>-0.540852</td>\n",
              "      <td>-0.505151</td>\n",
              "    </tr>\n",
              "    <tr>\n",
              "      <th>3</th>\n",
              "      <td>3625</td>\n",
              "      <td>0</td>\n",
              "      <td>0</td>\n",
              "      <td>1</td>\n",
              "      <td>0</td>\n",
              "      <td>0</td>\n",
              "      <td>1</td>\n",
              "      <td>0</td>\n",
              "      <td>0</td>\n",
              "      <td>0</td>\n",
              "      <td>0</td>\n",
              "      <td>0</td>\n",
              "      <td>0</td>\n",
              "      <td>-0.111853</td>\n",
              "      <td>-0.020553</td>\n",
              "      <td>-1.102293</td>\n",
              "      <td>0.067022</td>\n",
              "      <td>0.088361</td>\n",
              "      <td>0.069942</td>\n",
              "    </tr>\n",
              "    <tr>\n",
              "      <th>3</th>\n",
              "      <td>5729</td>\n",
              "      <td>1</td>\n",
              "      <td>0</td>\n",
              "      <td>0</td>\n",
              "      <td>0</td>\n",
              "      <td>0</td>\n",
              "      <td>0</td>\n",
              "      <td>1</td>\n",
              "      <td>0</td>\n",
              "      <td>0</td>\n",
              "      <td>0</td>\n",
              "      <td>0</td>\n",
              "      <td>0</td>\n",
              "      <td>0.412995</td>\n",
              "      <td>3.589792</td>\n",
              "      <td>-1.545638</td>\n",
              "      <td>0.431592</td>\n",
              "      <td>0.376751</td>\n",
              "      <td>0.818901</td>\n",
              "    </tr>\n",
              "  </tbody>\n",
              "</table>\n",
              "</div>"
            ],
            "text/plain": [
              "         price  cut_Fair  cut_Good  ...         x         y         z\n",
              "clarity                             ...                              \n",
              "5         2347         0         0  ... -0.297549 -0.252463 -0.237666\n",
              "3        17108         0         0  ...  1.480844  1.486613  1.420743\n",
              "5         1838         0         0  ... -0.582092 -0.540852 -0.505151\n",
              "3         3625         0         0  ...  0.067022  0.088361  0.069942\n",
              "3         5729         1         0  ...  0.431592  0.376751  0.818901\n",
              "\n",
              "[5 rows x 19 columns]"
            ]
          },
          "metadata": {
            "tags": []
          },
          "execution_count": 3
        }
      ]
    },
    {
      "cell_type": "code",
      "metadata": {
        "id": "6E6DX3cKvKmA",
        "colab_type": "code",
        "colab": {}
      },
      "source": [
        "from sklearn.linear_model import LinearRegression\n",
        "\n",
        "def linear_model(x_train, y_train):\n",
        "    \n",
        "    print(\"Linear Regression \")\n",
        "    linear_regression = LinearRegression()\n",
        "    \n",
        "    linear_regression.fit(x_train, y_train)\n",
        "    \n",
        "    return linear_regression"
      ],
      "execution_count": 0,
      "outputs": []
    },
    {
      "cell_type": "code",
      "metadata": {
        "id": "unngtXy-vfS7",
        "colab_type": "code",
        "colab": {}
      },
      "source": [
        "from sklearn.linear_model import Lasso\n",
        "def lasso_model(x_train, y_train):\n",
        "    \n",
        "    print(\"Lasso Regression\")\n",
        "    lasso_regression = Lasso(alpha=0.8, max_iter=10000)\n",
        "    \n",
        "    lasso_regression.fit(x_train, y_train)\n",
        "    \n",
        "    return lasso_regression"
      ],
      "execution_count": 0,
      "outputs": []
    },
    {
      "cell_type": "code",
      "metadata": {
        "id": "fkBjTWQ2viHp",
        "colab_type": "code",
        "colab": {}
      },
      "source": [
        "from sklearn.linear_model import Ridge\n",
        "\n",
        "def ridge_model(x_train, y_train):\n",
        "    \n",
        "    print(\"Ridge Regression\")\n",
        "    ridge_regression = Ridge(alpha=0.9)\n",
        "    \n",
        "    ridge_regression.fit(x_train, y_train)\n",
        "    \n",
        "    return ridge_regression"
      ],
      "execution_count": 0,
      "outputs": []
    },
    {
      "cell_type": "code",
      "metadata": {
        "id": "obuIgqcZvkbJ",
        "colab_type": "code",
        "colab": {}
      },
      "source": [
        "def build_and_train_model(data, target_name, reg_fn):\n",
        "    \n",
        "    X = data.drop(target_name, axis=1)\n",
        "    Y = data[target_name]\n",
        "    \n",
        "    x_train, x_test, y_train, y_test = \\\n",
        "        train_test_split(X, Y, test_size = 0.2, random_state=0)\n",
        "\n",
        "    model = reg_fn(x_train, y_train)\n",
        "    \n",
        "    score = model.score(x_train, y_train)\n",
        "    print(\"Training Score : \", score)\n",
        "\n",
        "    y_pred = model.predict(x_test)\n",
        "    r_score = r2_score(y_test, y_pred)\n",
        "    print(\"Testing Score : \", r_score)\n",
        "    \n",
        "    return {'model' : model, \n",
        "            'x_train' : x_train, 'x_test' : x_test,\n",
        "            'y_train' : y_train, 'y_test' : y_test, \n",
        "            'y_pred' : y_pred\n",
        "           }"
      ],
      "execution_count": 0,
      "outputs": []
    },
    {
      "cell_type": "code",
      "metadata": {
        "id": "SMIZ_1Izvn6y",
        "colab_type": "code",
        "colab": {
          "base_uri": "https://localhost:8080/",
          "height": 67
        },
        "outputId": "80d6f2f5-0333-43a0-9f55-b9b7ddb0bb3c"
      },
      "source": [
        "linear_reg = build_and_train_model(data, \"price\", linear_model)"
      ],
      "execution_count": 8,
      "outputs": [
        {
          "output_type": "stream",
          "text": [
            "Linear Regression \n",
            "Training Score :  0.8769679928325292\n",
            "Testing Score :  0.8587791182133941\n"
          ],
          "name": "stdout"
        }
      ]
    },
    {
      "cell_type": "code",
      "metadata": {
        "id": "7zxw-J6vvrGl",
        "colab_type": "code",
        "colab": {
          "base_uri": "https://localhost:8080/",
          "height": 67
        },
        "outputId": "0a19af07-15b1-4923-98b1-41f31481bf86"
      },
      "source": [
        "lasso_reg = build_and_train_model(data, \"price\", lasso_model)"
      ],
      "execution_count": 11,
      "outputs": [
        {
          "output_type": "stream",
          "text": [
            "Lasso Regression\n",
            "Training Score :  0.8769660880729163\n",
            "Testing Score :  0.8588299001123165\n"
          ],
          "name": "stdout"
        }
      ]
    },
    {
      "cell_type": "code",
      "metadata": {
        "id": "y8WbtUeFvtPn",
        "colab_type": "code",
        "colab": {
          "base_uri": "https://localhost:8080/",
          "height": 67
        },
        "outputId": "9f707acb-1361-4869-afd0-3d7afbb1d3c7"
      },
      "source": [
        "ridge_reg = build_and_train_model(data, \"price\", ridge_model)"
      ],
      "execution_count": 12,
      "outputs": [
        {
          "output_type": "stream",
          "text": [
            "Ridge Regression\n",
            "Training Score :  0.8769767455315431\n",
            "Testing Score :  0.8587808694573578\n"
          ],
          "name": "stdout"
        }
      ]
    },
    {
      "cell_type": "code",
      "metadata": {
        "id": "u98kSNHjwiDP",
        "colab_type": "code",
        "colab": {
          "base_uri": "https://localhost:8080/",
          "height": 34
        },
        "outputId": "d39e3d25-88ab-4619-c15e-0b92e8bbb9f0"
      },
      "source": [
        "linear_reg['model']"
      ],
      "execution_count": 13,
      "outputs": [
        {
          "output_type": "execute_result",
          "data": {
            "text/plain": [
              "LinearRegression(copy_X=True, fit_intercept=True, n_jobs=None, normalize=False)"
            ]
          },
          "metadata": {
            "tags": []
          },
          "execution_count": 13
        }
      ]
    },
    {
      "cell_type": "code",
      "metadata": {
        "id": "QSEjGAU5wknc",
        "colab_type": "code",
        "colab": {}
      },
      "source": [
        "from sklearn.linear_model import SGDRegressor\n",
        "\n",
        "def sgd_model(x_train, y_train):\n",
        "    \n",
        "    print(\"SGD Regression\")\n",
        "    sgd_regression = SGDRegressor(max_iter=2000)\n",
        "    \n",
        "    sgd_regression.fit(x_train, y_train)\n",
        "    \n",
        "    return sgd_regression"
      ],
      "execution_count": 0,
      "outputs": []
    },
    {
      "cell_type": "code",
      "metadata": {
        "id": "pFImMWK7wqZN",
        "colab_type": "code",
        "colab": {
          "base_uri": "https://localhost:8080/",
          "height": 67
        },
        "outputId": "38cbb339-0c07-453f-dc93-7c56594840b7"
      },
      "source": [
        "sgd_reg = build_and_train_model(data, \"price\", sgd_model)"
      ],
      "execution_count": 15,
      "outputs": [
        {
          "output_type": "stream",
          "text": [
            "SGD Regression\n",
            "Training Score :  0.876720525483152\n",
            "Testing Score :  0.8598514100138996\n"
          ],
          "name": "stdout"
        }
      ]
    },
    {
      "cell_type": "code",
      "metadata": {
        "id": "-I9mdROfwsng",
        "colab_type": "code",
        "colab": {}
      },
      "source": [
        ""
      ],
      "execution_count": 0,
      "outputs": []
    }
  ]
}