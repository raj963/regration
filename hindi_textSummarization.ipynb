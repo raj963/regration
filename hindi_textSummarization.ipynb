{
  "nbformat": 4,
  "nbformat_minor": 0,
  "metadata": {
    "colab": {
      "name": "hindi-text-summarization.ipynb",
      "provenance": [],
      "include_colab_link": true
    },
    "kernelspec": {
      "name": "python3",
      "display_name": "Python 3"
    }
  },
  "cells": [
    {
      "cell_type": "markdown",
      "metadata": {
        "id": "view-in-github",
        "colab_type": "text"
      },
      "source": [
        "<a href=\"https://colab.research.google.com/github/raj963/regration/blob/master/hindi_textSummarization.ipynb\" target=\"_parent\"><img src=\"https://colab.research.google.com/assets/colab-badge.svg\" alt=\"Open In Colab\"/></a>"
      ]
    },
    {
      "cell_type": "code",
      "metadata": {
        "id": "8nzN8yt2P9JP",
        "colab_type": "code",
        "colab": {
          "base_uri": "https://localhost:8080/",
          "height": 322
        },
        "outputId": "18de1ea1-139a-4e67-c37f-2d004af89f32"
      },
      "source": [
        "!pip install gensim"
      ],
      "execution_count": 1,
      "outputs": [
        {
          "output_type": "stream",
          "text": [
            "Requirement already satisfied: gensim in /usr/local/lib/python3.6/dist-packages (3.6.0)\n",
            "Requirement already satisfied: six>=1.5.0 in /usr/local/lib/python3.6/dist-packages (from gensim) (1.12.0)\n",
            "Requirement already satisfied: scipy>=0.18.1 in /usr/local/lib/python3.6/dist-packages (from gensim) (1.3.3)\n",
            "Requirement already satisfied: smart-open>=1.2.1 in /usr/local/lib/python3.6/dist-packages (from gensim) (1.9.0)\n",
            "Requirement already satisfied: numpy>=1.11.3 in /usr/local/lib/python3.6/dist-packages (from gensim) (1.17.4)\n",
            "Requirement already satisfied: boto>=2.32 in /usr/local/lib/python3.6/dist-packages (from smart-open>=1.2.1->gensim) (2.49.0)\n",
            "Requirement already satisfied: boto3 in /usr/local/lib/python3.6/dist-packages (from smart-open>=1.2.1->gensim) (1.10.40)\n",
            "Requirement already satisfied: requests in /usr/local/lib/python3.6/dist-packages (from smart-open>=1.2.1->gensim) (2.21.0)\n",
            "Requirement already satisfied: botocore<1.14.0,>=1.13.40 in /usr/local/lib/python3.6/dist-packages (from boto3->smart-open>=1.2.1->gensim) (1.13.40)\n",
            "Requirement already satisfied: s3transfer<0.3.0,>=0.2.0 in /usr/local/lib/python3.6/dist-packages (from boto3->smart-open>=1.2.1->gensim) (0.2.1)\n",
            "Requirement already satisfied: jmespath<1.0.0,>=0.7.1 in /usr/local/lib/python3.6/dist-packages (from boto3->smart-open>=1.2.1->gensim) (0.9.4)\n",
            "Requirement already satisfied: idna<2.9,>=2.5 in /usr/local/lib/python3.6/dist-packages (from requests->smart-open>=1.2.1->gensim) (2.8)\n",
            "Requirement already satisfied: urllib3<1.25,>=1.21.1 in /usr/local/lib/python3.6/dist-packages (from requests->smart-open>=1.2.1->gensim) (1.24.3)\n",
            "Requirement already satisfied: certifi>=2017.4.17 in /usr/local/lib/python3.6/dist-packages (from requests->smart-open>=1.2.1->gensim) (2019.11.28)\n",
            "Requirement already satisfied: chardet<3.1.0,>=3.0.2 in /usr/local/lib/python3.6/dist-packages (from requests->smart-open>=1.2.1->gensim) (3.0.4)\n",
            "Requirement already satisfied: python-dateutil<2.8.1,>=2.1; python_version >= \"2.7\" in /usr/local/lib/python3.6/dist-packages (from botocore<1.14.0,>=1.13.40->boto3->smart-open>=1.2.1->gensim) (2.6.1)\n",
            "Requirement already satisfied: docutils<0.16,>=0.10 in /usr/local/lib/python3.6/dist-packages (from botocore<1.14.0,>=1.13.40->boto3->smart-open>=1.2.1->gensim) (0.15.2)\n"
          ],
          "name": "stdout"
        }
      ]
    },
    {
      "cell_type": "code",
      "metadata": {
        "id": "BNxcYxJLP_lD",
        "colab_type": "code",
        "colab": {}
      },
      "source": [
        "from gensim.summarization.summarizer import summarize"
      ],
      "execution_count": 0,
      "outputs": []
    },
    {
      "cell_type": "code",
      "metadata": {
        "id": "mPjWCEMCQOlk",
        "colab_type": "code",
        "colab": {}
      },
      "source": [
        "article = \"\"\"ai  will not make humans obsolete as it cannot set goals like humans do, NR Narayana Murthy, chairman emeritus and co-founder of Infosys, said on Friday. Murthy was answering a question during the third edition of The Future of Learning conference (FoL) held at the Indian Institute of Management-Bangalore (IIMB). \n",
        " \n",
        "  The two-day conference - Learning to Learn, Unlearn and Relearn: Flourishing in the Age of Disruptions and Innovations - was co-chaired by the Indian Institute of Technology, Bombay. \n",
        "  \n",
        "   asked Murthy if AI would prove to be a threat to the relevance of human beings. \"So much has been spoken about AI. We must understand that it is not the ultimate thing. Because no computer can do one thing that a human can do, which is defining a goal,\" Murthy responded. He added that humans will continue to be relevant as long as they use their brain to define aspirational goals and new ways of doing things. \n",
        "    Murthy also shared some insights on what needs to change in our education system. \"I remember asking simple questions to candidates, who'd have just graduated in \n",
        "\t\n",
        "\t, but they wouldn't know the answers. They would say that since exam got over a few months ago, they don't remember anything,\" he said. Murthy said most of them memorise, write exams, get good marks and forget what they learnt. '\"\"\"\n",
        "  "
      ],
      "execution_count": 0,
      "outputs": []
    },
    {
      "cell_type": "code",
      "metadata": {
        "id": "FhE5jAhQR0L_",
        "colab_type": "code",
        "colab": {
          "base_uri": "https://localhost:8080/",
          "height": 54
        },
        "outputId": "9d594b30-b3f7-477c-f481-b66b4bea91e4"
      },
      "source": [
        "summarize(article, word_count=50)"
      ],
      "execution_count": 24,
      "outputs": [
        {
          "output_type": "execute_result",
          "data": {
            "text/plain": [
              "'Murthy was answering a question during the third edition of The Future of Learning conference (FoL) held at the Indian Institute of Management-Bangalore (IIMB).\\nBecause no computer can do one thing that a human can do, which is defining a goal,\" Murthy responded.'"
            ]
          },
          "metadata": {
            "tags": []
          },
          "execution_count": 24
        }
      ]
    },
    {
      "cell_type": "code",
      "metadata": {
        "id": "SsKfnu-ITN9H",
        "colab_type": "code",
        "colab": {}
      },
      "source": [
        "article =\"\"\"अप्रैल 2020 के बाद ऑटो सेक्टर में एक जबरदस्त बदलाव देखने को मिलेगा। नए उत्सर्जन मानक बीएस6 लागू होने हैं और सभी कंपनियां इन्हें लागू करने में जुट गई हैं। दोपहिया वाहन बनाने वाली कंपनी Royal Enfield भी अपनी बाइक्स को बीएस6 इंजन में लाने वाली है। कंपनी सबसे पहले Royal Enfield Classic 350 को बीएस6 इंजन में लॉन्च करेगी। वहीं कंपनी Hunter नाम से नई बाइक्स भी ल़ॉन्च करेगी। जानते हैं नई क्लासिक 350 में क्या होंगे बदलाव\n",
        "नई क्लासिक 350 में एयर कूल्ड ट्विन स्पार्क इलेक्ट्रॉनिक फ्यूल इंजेक्शन टेक्नोलॉजी मिलेगी। वहीं बीएस6 इंजन वाली बाइक में ऑक्सीजन सेंसर, बेंड पाइप पर नया कैटेलिटिक कनवर्टर, अपडेटे एग्जास्ट मफलर के साथ बड़ी हीट शील्ट प्लेट मिलेगी।\n",
        "वहीं इसके इंजन के टॉर्क और पॉवर के बारे में अभी पता नहीं चला है। हालांकि मौजूदा बीएस4 इंजन 19.8 बीएचपी की पावर और 28 एनएम का टॉर्क देता है। वहीं नई बाइक में भी 5-स्पीड ट्रांसमिशन दिया जा सकता है।\n",
        "\n",
        "कंपनी नए मानकों को ध्यान में रखते हुए 500 सीसी वैरियंट्स को अस्थाई तौर पर बंद कर सकती है। इस साल के मध्य में कंपनी इनका नया वर्जन लॉन्च कर सकती हैसाथ ही 650 Twins (Interceptor और Continental GT) को भी बीएस-6 इंजन में लॉन्च करने की तैयारी कर रही है। वहीं नए प्रोडक्ट्स कंपनी अप्रैल 2020 के बागद ही लॉन्च करेगी\n",
        "\n",
        "वहीं कंपनी महिलों और युवाओं को ध्यान में रखते हुए अपनी रेट्रो क्लासिक बाइक्स का नया अवतार भी लॉन्च कर सकती है। कंपनी ने हाल ही में नई प्रोडक्ट्स के लिए नेमप्लेट के ट्रेडमार्क के लिए आवेदन किया है। कंपनी Royal Enfield Hunter नाम से नई बाइक्स लाएगी, जिन्हें महिलाओं और युवाओं को ध्यान में रखते हुए लाया जाएगा। खास बात यह होगी कि ये बाइक्स 250 सीसी इंजन के साथ लॉन्च की जाएंगी। इन बाइक्स को जे प्लेटफॉर्म पर बनाया जाएगा।\"\"\""
      ],
      "execution_count": 0,
      "outputs": []
    },
    {
      "cell_type": "code",
      "metadata": {
        "id": "_b3oEE-lTOAS",
        "colab_type": "code",
        "colab": {
          "base_uri": "https://localhost:8080/",
          "height": 54
        },
        "outputId": "59e3a57b-e4f8-4324-809a-5542cf4d6742"
      },
      "source": [
        "summarize(article, word_count=200)"
      ],
      "execution_count": 15,
      "outputs": [
        {
          "output_type": "execute_result",
          "data": {
            "text/plain": [
              "'नई क्लासिक 350 में एयर कूल्ड ट्विन स्पार्क इलेक्ट्रॉनिक फ्यूल इंजेक्शन टेक्नोलॉजी मिलेगी। वहीं बीएस6 इंजन वाली बाइक में ऑक्सीजन सेंसर, बेंड पाइप पर नया कैटेलिटिक कनवर्टर, अपडेटे एग्जास्ट मफलर के साथ बड़ी हीट शील्ट प्लेट मिलेगी।\\nकंपनी नए मानकों को ध्यान में रखते हुए 500 सीसी वैरियंट्स को अस्थाई तौर पर बंद कर सकती है। इस साल के मध्य में कंपनी इनका नया वर्जन लॉन्च कर सकती हैसाथ ही 650 Twins (Interceptor और Continental GT) को भी बीएस-6 इंजन में लॉन्च करने की तैयारी कर रही है। वहीं नए प्रोडक्ट्स कंपनी अप्रैल 2020 के बागद ही लॉन्च करेगी\\nवहीं कंपनी महिलों और युवाओं को ध्यान में रखते हुए अपनी रेट्रो क्लासिक बाइक्स का नया अवतार भी लॉन्च कर सकती है। कंपनी ने हाल ही में नई प्रोडक्ट्स के लिए नेमप्लेट के ट्रेडमार्क के लिए आवेदन किया है। कंपनी Royal Enfield Hunter नाम से नई बाइक्स लाएगी, जिन्हें महिलाओं और युवाओं को ध्यान में रखते हुए लाया जाएगा। खास बात यह होगी कि ये बाइक्स 250 सीसी इंजन के साथ लॉन्च की जाएंगी। इन बाइक्स को जे प्लेटफॉर्म पर बनाया जाएगा।'"
            ]
          },
          "metadata": {
            "tags": []
          },
          "execution_count": 15
        }
      ]
    },
    {
      "cell_type": "code",
      "metadata": {
        "id": "noU-MABiTOEF",
        "colab_type": "code",
        "colab": {
          "base_uri": "https://localhost:8080/",
          "height": 54
        },
        "outputId": "5f45ee98-b6ab-46eb-d68b-53586264b901"
      },
      "source": [
        "summarize(article, word_count=100)"
      ],
      "execution_count": 16,
      "outputs": [
        {
          "output_type": "execute_result",
          "data": {
            "text/plain": [
              "'वहीं कंपनी महिलों और युवाओं को ध्यान में रखते हुए अपनी रेट्रो क्लासिक बाइक्स का नया अवतार भी लॉन्च कर सकती है। कंपनी ने हाल ही में नई प्रोडक्ट्स के लिए नेमप्लेट के ट्रेडमार्क के लिए आवेदन किया है। कंपनी Royal Enfield Hunter नाम से नई बाइक्स लाएगी, जिन्हें महिलाओं और युवाओं को ध्यान में रखते हुए लाया जाएगा। खास बात यह होगी कि ये बाइक्स 250 सीसी इंजन के साथ लॉन्च की जाएंगी। इन बाइक्स को जे प्लेटफॉर्म पर बनाया जाएगा।'"
            ]
          },
          "metadata": {
            "tags": []
          },
          "execution_count": 16
        }
      ]
    },
    {
      "cell_type": "code",
      "metadata": {
        "id": "DnJFTeIbUKlN",
        "colab_type": "code",
        "colab": {
          "base_uri": "https://localhost:8080/",
          "height": 54
        },
        "outputId": "78fa2075-cd2f-400a-cad6-d050b25cdbe7"
      },
      "source": [
        "summarize(article, word_count=300)"
      ],
      "execution_count": 18,
      "outputs": [
        {
          "output_type": "execute_result",
          "data": {
            "text/plain": [
              "'अप्रैल 2020 के बाद ऑटो सेक्टर में एक जबरदस्त बदलाव देखने को मिलेगा। नए उत्सर्जन मानक बीएस6 लागू होने हैं और सभी कंपनियां इन्हें लागू करने में जुट गई हैं। दोपहिया वाहन बनाने वाली कंपनी Royal Enfield भी अपनी बाइक्स को बीएस6 इंजन में लाने वाली है। कंपनी सबसे पहले Royal Enfield Classic 350 को बीएस6 इंजन में लॉन्च करेगी। वहीं कंपनी Hunter नाम से नई बाइक्स भी ल़ॉन्च करेगी। जानते हैं नई क्लासिक 350 में क्या होंगे बदलाव\\nनई क्लासिक 350 में एयर कूल्ड ट्विन स्पार्क इलेक्ट्रॉनिक फ्यूल इंजेक्शन टेक्नोलॉजी मिलेगी। वहीं बीएस6 इंजन वाली बाइक में ऑक्सीजन सेंसर, बेंड पाइप पर नया कैटेलिटिक कनवर्टर, अपडेटे एग्जास्ट मफलर के साथ बड़ी हीट शील्ट प्लेट मिलेगी।\\nवहीं इसके इंजन के टॉर्क और पॉवर के बारे में अभी पता नहीं चला है। हालांकि मौजूदा बीएस4 इंजन 19.8 बीएचपी की पावर और 28 एनएम का टॉर्क देता है। वहीं नई बाइक में भी 5-स्पीड ट्रांसमिशन दिया जा सकता है।\\nकंपनी नए मानकों को ध्यान में रखते हुए 500 सीसी वैरियंट्स को अस्थाई तौर पर बंद कर सकती है। इस साल के मध्य में कंपनी इनका नया वर्जन लॉन्च कर सकती हैसाथ ही 650 Twins (Interceptor और Continental GT) को भी बीएस-6 इंजन में लॉन्च करने की तैयारी कर रही है। वहीं नए प्रोडक्ट्स कंपनी अप्रैल 2020 के बागद ही लॉन्च करेगी\\nवहीं कंपनी महिलों और युवाओं को ध्यान में रखते हुए अपनी रेट्रो क्लासिक बाइक्स का नया अवतार भी लॉन्च कर सकती है। कंपनी ने हाल ही में नई प्रोडक्ट्स के लिए नेमप्लेट के ट्रेडमार्क के लिए आवेदन किया है। कंपनी Royal Enfield Hunter नाम से नई बाइक्स लाएगी, जिन्हें महिलाओं और युवाओं को ध्यान में रखते हुए लाया जाएगा। खास बात यह होगी कि ये बाइक्स 250 सीसी इंजन के साथ लॉन्च की जाएंगी। इन बाइक्स को जे प्लेटफॉर्म पर बनाया जाएगा।'"
            ]
          },
          "metadata": {
            "tags": []
          },
          "execution_count": 18
        }
      ]
    }
  ]
}