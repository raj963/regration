{
  "nbformat": 4,
  "nbformat_minor": 0,
  "metadata": {
    "colab": {
      "name": "linearRigressionWithNumericalData.ipynb",
      "provenance": [],
      "include_colab_link": true
    },
    "kernelspec": {
      "name": "python3",
      "display_name": "Python 3"
    }
  },
  "cells": [
    {
      "cell_type": "markdown",
      "metadata": {
        "id": "view-in-github",
        "colab_type": "text"
      },
      "source": [
        "<a href=\"https://colab.research.google.com/github/raj963/regration/blob/master/linearRigressionWithNumericalData.ipynb\" target=\"_parent\"><img src=\"https://colab.research.google.com/assets/colab-badge.svg\" alt=\"Open In Colab\"/></a>"
      ]
    },
    {
      "cell_type": "code",
      "metadata": {
        "id": "AjTXa1WAoOPa",
        "colab_type": "code",
        "colab": {}
      },
      "source": [
        "import pandas as pd\n",
        "import matplotlib.pyplot as plt\n",
        "\n",
        "import seaborn as sns"
      ],
      "execution_count": 0,
      "outputs": []
    },
    {
      "cell_type": "code",
      "metadata": {
        "id": "gmxxGlrBq5LN",
        "colab_type": "code",
        "colab": {}
      },
      "source": [
        "data = pd.read_csv('datasets/boston_data.csv', index_col=0)"
      ],
      "execution_count": 0,
      "outputs": []
    },
    {
      "cell_type": "code",
      "metadata": {
        "id": "0XgfCMVcq69k",
        "colab_type": "code",
        "colab": {
          "base_uri": "https://localhost:8080/",
          "height": 225
        },
        "outputId": "203710ca-7d0e-4633-9ca1-6703c9efc02e"
      },
      "source": [
        "data.head()"
      ],
      "execution_count": 7,
      "outputs": [
        {
          "output_type": "execute_result",
          "data": {
            "text/html": [
              "<div>\n",
              "<style scoped>\n",
              "    .dataframe tbody tr th:only-of-type {\n",
              "        vertical-align: middle;\n",
              "    }\n",
              "\n",
              "    .dataframe tbody tr th {\n",
              "        vertical-align: top;\n",
              "    }\n",
              "\n",
              "    .dataframe thead th {\n",
              "        text-align: right;\n",
              "    }\n",
              "</style>\n",
              "<table border=\"1\" class=\"dataframe\">\n",
              "  <thead>\n",
              "    <tr style=\"text-align: right;\">\n",
              "      <th></th>\n",
              "      <th>indus</th>\n",
              "      <th>chas</th>\n",
              "      <th>nox</th>\n",
              "      <th>rm</th>\n",
              "      <th>age</th>\n",
              "      <th>dis</th>\n",
              "      <th>rad</th>\n",
              "      <th>tax</th>\n",
              "      <th>ptratio</th>\n",
              "      <th>lstat</th>\n",
              "      <th>medv</th>\n",
              "    </tr>\n",
              "    <tr>\n",
              "      <th>ID</th>\n",
              "      <th></th>\n",
              "      <th></th>\n",
              "      <th></th>\n",
              "      <th></th>\n",
              "      <th></th>\n",
              "      <th></th>\n",
              "      <th></th>\n",
              "      <th></th>\n",
              "      <th></th>\n",
              "      <th></th>\n",
              "      <th></th>\n",
              "    </tr>\n",
              "  </thead>\n",
              "  <tbody>\n",
              "    <tr>\n",
              "      <th>1</th>\n",
              "      <td>2.31</td>\n",
              "      <td>0</td>\n",
              "      <td>0.538</td>\n",
              "      <td>6.575</td>\n",
              "      <td>65.2</td>\n",
              "      <td>4.0900</td>\n",
              "      <td>1</td>\n",
              "      <td>296</td>\n",
              "      <td>15.3</td>\n",
              "      <td>4.98</td>\n",
              "      <td>24.0</td>\n",
              "    </tr>\n",
              "    <tr>\n",
              "      <th>2</th>\n",
              "      <td>7.07</td>\n",
              "      <td>0</td>\n",
              "      <td>0.469</td>\n",
              "      <td>6.421</td>\n",
              "      <td>78.9</td>\n",
              "      <td>4.9671</td>\n",
              "      <td>2</td>\n",
              "      <td>242</td>\n",
              "      <td>17.8</td>\n",
              "      <td>9.14</td>\n",
              "      <td>21.6</td>\n",
              "    </tr>\n",
              "    <tr>\n",
              "      <th>4</th>\n",
              "      <td>2.18</td>\n",
              "      <td>0</td>\n",
              "      <td>0.458</td>\n",
              "      <td>6.998</td>\n",
              "      <td>45.8</td>\n",
              "      <td>6.0622</td>\n",
              "      <td>3</td>\n",
              "      <td>222</td>\n",
              "      <td>18.7</td>\n",
              "      <td>2.94</td>\n",
              "      <td>33.4</td>\n",
              "    </tr>\n",
              "    <tr>\n",
              "      <th>5</th>\n",
              "      <td>2.18</td>\n",
              "      <td>0</td>\n",
              "      <td>0.458</td>\n",
              "      <td>7.147</td>\n",
              "      <td>54.2</td>\n",
              "      <td>6.0622</td>\n",
              "      <td>3</td>\n",
              "      <td>222</td>\n",
              "      <td>18.7</td>\n",
              "      <td>5.33</td>\n",
              "      <td>36.2</td>\n",
              "    </tr>\n",
              "    <tr>\n",
              "      <th>7</th>\n",
              "      <td>7.87</td>\n",
              "      <td>0</td>\n",
              "      <td>0.524</td>\n",
              "      <td>6.012</td>\n",
              "      <td>66.6</td>\n",
              "      <td>5.5605</td>\n",
              "      <td>5</td>\n",
              "      <td>311</td>\n",
              "      <td>15.2</td>\n",
              "      <td>12.43</td>\n",
              "      <td>22.9</td>\n",
              "    </tr>\n",
              "  </tbody>\n",
              "</table>\n",
              "</div>"
            ],
            "text/plain": [
              "    indus  chas    nox     rm   age     dis  rad  tax  ptratio  lstat  medv\n",
              "ID                                                                         \n",
              "1    2.31     0  0.538  6.575  65.2  4.0900    1  296     15.3   4.98  24.0\n",
              "2    7.07     0  0.469  6.421  78.9  4.9671    2  242     17.8   9.14  21.6\n",
              "4    2.18     0  0.458  6.998  45.8  6.0622    3  222     18.7   2.94  33.4\n",
              "5    2.18     0  0.458  7.147  54.2  6.0622    3  222     18.7   5.33  36.2\n",
              "7    7.87     0  0.524  6.012  66.6  5.5605    5  311     15.2  12.43  22.9"
            ]
          },
          "metadata": {
            "tags": []
          },
          "execution_count": 7
        }
      ]
    },
    {
      "cell_type": "code",
      "metadata": {
        "id": "IV-pHIwBrCKw",
        "colab_type": "code",
        "colab": {
          "base_uri": "https://localhost:8080/",
          "height": 34
        },
        "outputId": "f5fea316-5fac-4657-bc6e-5451c3d4550a"
      },
      "source": [
        "data.shape"
      ],
      "execution_count": 8,
      "outputs": [
        {
          "output_type": "execute_result",
          "data": {
            "text/plain": [
              "(333, 11)"
            ]
          },
          "metadata": {
            "tags": []
          },
          "execution_count": 8
        }
      ]
    },
    {
      "cell_type": "code",
      "metadata": {
        "id": "dGjX-_wmrHXN",
        "colab_type": "code",
        "colab": {
          "base_uri": "https://localhost:8080/",
          "height": 1000
        },
        "outputId": "0f3a0474-94ee-4468-89bf-32ec3886c425"
      },
      "source": [
        "dir(data)"
      ],
      "execution_count": 9,
      "outputs": [
        {
          "output_type": "execute_result",
          "data": {
            "text/plain": [
              "['T',\n",
              " '_AXIS_ALIASES',\n",
              " '_AXIS_IALIASES',\n",
              " '_AXIS_LEN',\n",
              " '_AXIS_NAMES',\n",
              " '_AXIS_NUMBERS',\n",
              " '_AXIS_ORDERS',\n",
              " '_AXIS_REVERSED',\n",
              " '__abs__',\n",
              " '__add__',\n",
              " '__and__',\n",
              " '__array__',\n",
              " '__array_priority__',\n",
              " '__array_wrap__',\n",
              " '__bool__',\n",
              " '__class__',\n",
              " '__contains__',\n",
              " '__copy__',\n",
              " '__deepcopy__',\n",
              " '__delattr__',\n",
              " '__delitem__',\n",
              " '__dict__',\n",
              " '__dir__',\n",
              " '__div__',\n",
              " '__doc__',\n",
              " '__eq__',\n",
              " '__finalize__',\n",
              " '__floordiv__',\n",
              " '__format__',\n",
              " '__ge__',\n",
              " '__getattr__',\n",
              " '__getattribute__',\n",
              " '__getitem__',\n",
              " '__getstate__',\n",
              " '__gt__',\n",
              " '__hash__',\n",
              " '__iadd__',\n",
              " '__iand__',\n",
              " '__ifloordiv__',\n",
              " '__imod__',\n",
              " '__imul__',\n",
              " '__init__',\n",
              " '__init_subclass__',\n",
              " '__invert__',\n",
              " '__ior__',\n",
              " '__ipow__',\n",
              " '__isub__',\n",
              " '__iter__',\n",
              " '__itruediv__',\n",
              " '__ixor__',\n",
              " '__le__',\n",
              " '__len__',\n",
              " '__lt__',\n",
              " '__matmul__',\n",
              " '__mod__',\n",
              " '__module__',\n",
              " '__mul__',\n",
              " '__ne__',\n",
              " '__neg__',\n",
              " '__new__',\n",
              " '__nonzero__',\n",
              " '__or__',\n",
              " '__pos__',\n",
              " '__pow__',\n",
              " '__radd__',\n",
              " '__rand__',\n",
              " '__rdiv__',\n",
              " '__reduce__',\n",
              " '__reduce_ex__',\n",
              " '__repr__',\n",
              " '__rfloordiv__',\n",
              " '__rmatmul__',\n",
              " '__rmod__',\n",
              " '__rmul__',\n",
              " '__ror__',\n",
              " '__round__',\n",
              " '__rpow__',\n",
              " '__rsub__',\n",
              " '__rtruediv__',\n",
              " '__rxor__',\n",
              " '__setattr__',\n",
              " '__setitem__',\n",
              " '__setstate__',\n",
              " '__sizeof__',\n",
              " '__str__',\n",
              " '__sub__',\n",
              " '__subclasshook__',\n",
              " '__truediv__',\n",
              " '__weakref__',\n",
              " '__xor__',\n",
              " '_accessors',\n",
              " '_add_numeric_operations',\n",
              " '_add_series_only_operations',\n",
              " '_add_series_or_dataframe_operations',\n",
              " '_agg_by_level',\n",
              " '_agg_examples_doc',\n",
              " '_agg_summary_and_see_also_doc',\n",
              " '_aggregate',\n",
              " '_aggregate_multiple_funcs',\n",
              " '_align_frame',\n",
              " '_align_series',\n",
              " '_box_col_values',\n",
              " '_box_item_values',\n",
              " '_builtin_table',\n",
              " '_check_inplace_setting',\n",
              " '_check_is_chained_assignment_possible',\n",
              " '_check_label_or_level_ambiguity',\n",
              " '_check_percentile',\n",
              " '_check_setitem_copy',\n",
              " '_clear_item_cache',\n",
              " '_clip_with_one_bound',\n",
              " '_clip_with_scalar',\n",
              " '_combine_const',\n",
              " '_combine_frame',\n",
              " '_combine_match_columns',\n",
              " '_combine_match_index',\n",
              " '_consolidate',\n",
              " '_consolidate_inplace',\n",
              " '_construct_axes_dict',\n",
              " '_construct_axes_dict_from',\n",
              " '_construct_axes_from_arguments',\n",
              " '_constructor',\n",
              " '_constructor_expanddim',\n",
              " '_constructor_sliced',\n",
              " '_convert',\n",
              " '_count_level',\n",
              " '_create_indexer',\n",
              " '_cython_table',\n",
              " '_data',\n",
              " '_deprecations',\n",
              " '_dir_additions',\n",
              " '_dir_deletions',\n",
              " '_drop_axis',\n",
              " '_drop_labels_or_levels',\n",
              " '_ensure_valid_index',\n",
              " '_find_valid_index',\n",
              " '_from_arrays',\n",
              " '_from_axes',\n",
              " '_get_agg_axis',\n",
              " '_get_axis',\n",
              " '_get_axis_name',\n",
              " '_get_axis_number',\n",
              " '_get_axis_resolvers',\n",
              " '_get_block_manager_axis',\n",
              " '_get_bool_data',\n",
              " '_get_cacher',\n",
              " '_get_index_resolvers',\n",
              " '_get_item_cache',\n",
              " '_get_label_or_level_values',\n",
              " '_get_numeric_data',\n",
              " '_get_space_character_free_column_resolvers',\n",
              " '_get_value',\n",
              " '_get_values',\n",
              " '_getitem_bool_array',\n",
              " '_getitem_frame',\n",
              " '_getitem_multilevel',\n",
              " '_gotitem',\n",
              " '_iget_item_cache',\n",
              " '_indexed_same',\n",
              " '_info_axis',\n",
              " '_info_axis_name',\n",
              " '_info_axis_number',\n",
              " '_info_repr',\n",
              " '_init_mgr',\n",
              " '_internal_get_values',\n",
              " '_internal_names',\n",
              " '_internal_names_set',\n",
              " '_is_builtin_func',\n",
              " '_is_cached',\n",
              " '_is_copy',\n",
              " '_is_cython_func',\n",
              " '_is_datelike_mixed_type',\n",
              " '_is_homogeneous_type',\n",
              " '_is_label_or_level_reference',\n",
              " '_is_label_reference',\n",
              " '_is_level_reference',\n",
              " '_is_mixed_type',\n",
              " '_is_numeric_mixed_type',\n",
              " '_is_view',\n",
              " '_ix',\n",
              " '_ixs',\n",
              " '_join_compat',\n",
              " '_maybe_cache_changed',\n",
              " '_maybe_update_cacher',\n",
              " '_metadata',\n",
              " '_needs_reindex_multi',\n",
              " '_obj_with_exclusions',\n",
              " '_protect_consolidate',\n",
              " '_reduce',\n",
              " '_reindex_axes',\n",
              " '_reindex_columns',\n",
              " '_reindex_index',\n",
              " '_reindex_multi',\n",
              " '_reindex_with_indexers',\n",
              " '_repr_data_resource_',\n",
              " '_repr_fits_horizontal_',\n",
              " '_repr_fits_vertical_',\n",
              " '_repr_html_',\n",
              " '_repr_latex_',\n",
              " '_reset_cache',\n",
              " '_reset_cacher',\n",
              " '_sanitize_column',\n",
              " '_selected_obj',\n",
              " '_selection',\n",
              " '_selection_list',\n",
              " '_selection_name',\n",
              " '_series',\n",
              " '_set_as_cached',\n",
              " '_set_axis',\n",
              " '_set_axis_name',\n",
              " '_set_is_copy',\n",
              " '_set_item',\n",
              " '_set_value',\n",
              " '_setitem_array',\n",
              " '_setitem_frame',\n",
              " '_setitem_slice',\n",
              " '_setup_axes',\n",
              " '_shallow_copy',\n",
              " '_slice',\n",
              " '_stat_axis',\n",
              " '_stat_axis_name',\n",
              " '_stat_axis_number',\n",
              " '_to_dict_of_blocks',\n",
              " '_try_aggregate_string_function',\n",
              " '_typ',\n",
              " '_unpickle_frame_compat',\n",
              " '_unpickle_matrix_compat',\n",
              " '_update_inplace',\n",
              " '_validate_dtype',\n",
              " '_values',\n",
              " '_where',\n",
              " '_xs',\n",
              " 'abs',\n",
              " 'add',\n",
              " 'add_prefix',\n",
              " 'add_suffix',\n",
              " 'age',\n",
              " 'agg',\n",
              " 'aggregate',\n",
              " 'align',\n",
              " 'all',\n",
              " 'any',\n",
              " 'append',\n",
              " 'apply',\n",
              " 'applymap',\n",
              " 'as_matrix',\n",
              " 'asfreq',\n",
              " 'asof',\n",
              " 'assign',\n",
              " 'astype',\n",
              " 'at',\n",
              " 'at_time',\n",
              " 'axes',\n",
              " 'between_time',\n",
              " 'bfill',\n",
              " 'bool',\n",
              " 'boxplot',\n",
              " 'chas',\n",
              " 'clip',\n",
              " 'clip_lower',\n",
              " 'clip_upper',\n",
              " 'columns',\n",
              " 'combine',\n",
              " 'combine_first',\n",
              " 'compound',\n",
              " 'copy',\n",
              " 'corr',\n",
              " 'corrwith',\n",
              " 'count',\n",
              " 'cov',\n",
              " 'cummax',\n",
              " 'cummin',\n",
              " 'cumprod',\n",
              " 'cumsum',\n",
              " 'describe',\n",
              " 'diff',\n",
              " 'dis',\n",
              " 'div',\n",
              " 'divide',\n",
              " 'dot',\n",
              " 'drop',\n",
              " 'drop_duplicates',\n",
              " 'droplevel',\n",
              " 'dropna',\n",
              " 'dtypes',\n",
              " 'duplicated',\n",
              " 'empty',\n",
              " 'eq',\n",
              " 'equals',\n",
              " 'eval',\n",
              " 'ewm',\n",
              " 'expanding',\n",
              " 'explode',\n",
              " 'ffill',\n",
              " 'fillna',\n",
              " 'filter',\n",
              " 'first',\n",
              " 'first_valid_index',\n",
              " 'floordiv',\n",
              " 'from_dict',\n",
              " 'from_records',\n",
              " 'ge',\n",
              " 'get',\n",
              " 'get_dtype_counts',\n",
              " 'get_ftype_counts',\n",
              " 'get_values',\n",
              " 'groupby',\n",
              " 'gt',\n",
              " 'head',\n",
              " 'hist',\n",
              " 'iat',\n",
              " 'idxmax',\n",
              " 'idxmin',\n",
              " 'iloc',\n",
              " 'index',\n",
              " 'indus',\n",
              " 'infer_objects',\n",
              " 'info',\n",
              " 'insert',\n",
              " 'interpolate',\n",
              " 'isin',\n",
              " 'isna',\n",
              " 'isnull',\n",
              " 'items',\n",
              " 'iteritems',\n",
              " 'iterrows',\n",
              " 'itertuples',\n",
              " 'join',\n",
              " 'keys',\n",
              " 'kurt',\n",
              " 'kurtosis',\n",
              " 'last',\n",
              " 'last_valid_index',\n",
              " 'le',\n",
              " 'loc',\n",
              " 'lookup',\n",
              " 'lstat',\n",
              " 'lt',\n",
              " 'mad',\n",
              " 'mask',\n",
              " 'max',\n",
              " 'mean',\n",
              " 'median',\n",
              " 'medv',\n",
              " 'melt',\n",
              " 'memory_usage',\n",
              " 'merge',\n",
              " 'min',\n",
              " 'mod',\n",
              " 'mode',\n",
              " 'mul',\n",
              " 'multiply',\n",
              " 'ndim',\n",
              " 'ne',\n",
              " 'nlargest',\n",
              " 'notna',\n",
              " 'notnull',\n",
              " 'nox',\n",
              " 'nsmallest',\n",
              " 'nunique',\n",
              " 'pct_change',\n",
              " 'pipe',\n",
              " 'pivot',\n",
              " 'pivot_table',\n",
              " 'plot',\n",
              " 'pop',\n",
              " 'pow',\n",
              " 'prod',\n",
              " 'product',\n",
              " 'ptratio',\n",
              " 'quantile',\n",
              " 'query',\n",
              " 'rad',\n",
              " 'radd',\n",
              " 'rank',\n",
              " 'rdiv',\n",
              " 'reindex',\n",
              " 'reindex_like',\n",
              " 'rename',\n",
              " 'rename_axis',\n",
              " 'reorder_levels',\n",
              " 'replace',\n",
              " 'resample',\n",
              " 'reset_index',\n",
              " 'rfloordiv',\n",
              " 'rm',\n",
              " 'rmod',\n",
              " 'rmul',\n",
              " 'rolling',\n",
              " 'round',\n",
              " 'rpow',\n",
              " 'rsub',\n",
              " 'rtruediv',\n",
              " 'sample',\n",
              " 'select_dtypes',\n",
              " 'sem',\n",
              " 'set_axis',\n",
              " 'set_index',\n",
              " 'shape',\n",
              " 'shift',\n",
              " 'size',\n",
              " 'skew',\n",
              " 'slice_shift',\n",
              " 'sort_index',\n",
              " 'sort_values',\n",
              " 'sparse',\n",
              " 'squeeze',\n",
              " 'stack',\n",
              " 'std',\n",
              " 'style',\n",
              " 'sub',\n",
              " 'subtract',\n",
              " 'sum',\n",
              " 'swapaxes',\n",
              " 'swaplevel',\n",
              " 'tail',\n",
              " 'take',\n",
              " 'tax',\n",
              " 'to_clipboard',\n",
              " 'to_csv',\n",
              " 'to_dense',\n",
              " 'to_dict',\n",
              " 'to_excel',\n",
              " 'to_feather',\n",
              " 'to_gbq',\n",
              " 'to_hdf',\n",
              " 'to_html',\n",
              " 'to_json',\n",
              " 'to_latex',\n",
              " 'to_msgpack',\n",
              " 'to_numpy',\n",
              " 'to_parquet',\n",
              " 'to_period',\n",
              " 'to_pickle',\n",
              " 'to_records',\n",
              " 'to_sparse',\n",
              " 'to_sql',\n",
              " 'to_stata',\n",
              " 'to_string',\n",
              " 'to_timestamp',\n",
              " 'to_xarray',\n",
              " 'transform',\n",
              " 'transpose',\n",
              " 'truediv',\n",
              " 'truncate',\n",
              " 'tshift',\n",
              " 'tz_convert',\n",
              " 'tz_localize',\n",
              " 'unstack',\n",
              " 'update',\n",
              " 'values',\n",
              " 'var',\n",
              " 'where',\n",
              " 'xs']"
            ]
          },
          "metadata": {
            "tags": []
          },
          "execution_count": 9
        }
      ]
    },
    {
      "cell_type": "code",
      "metadata": {
        "id": "MNatJ3UsrKcD",
        "colab_type": "code",
        "colab": {
          "base_uri": "https://localhost:8080/",
          "height": 286
        },
        "outputId": "2e5dcf4f-6bfb-42a1-a71c-c50bd8a5045e"
      },
      "source": [
        "data.info()"
      ],
      "execution_count": 10,
      "outputs": [
        {
          "output_type": "stream",
          "text": [
            "<class 'pandas.core.frame.DataFrame'>\n",
            "Int64Index: 333 entries, 1 to 506\n",
            "Data columns (total 11 columns):\n",
            "indus      333 non-null float64\n",
            "chas       333 non-null int64\n",
            "nox        333 non-null float64\n",
            "rm         333 non-null float64\n",
            "age        333 non-null float64\n",
            "dis        333 non-null float64\n",
            "rad        333 non-null int64\n",
            "tax        333 non-null int64\n",
            "ptratio    333 non-null float64\n",
            "lstat      333 non-null float64\n",
            "medv       333 non-null float64\n",
            "dtypes: float64(8), int64(3)\n",
            "memory usage: 31.2 KB\n"
          ],
          "name": "stdout"
        }
      ]
    },
    {
      "cell_type": "code",
      "metadata": {
        "id": "kBt3tbu9rQN8",
        "colab_type": "code",
        "colab": {
          "base_uri": "https://localhost:8080/",
          "height": 304
        },
        "outputId": "12d21b21-68d2-4b2b-a494-280c5e43a6a5"
      },
      "source": [
        "data.describe()"
      ],
      "execution_count": 11,
      "outputs": [
        {
          "output_type": "execute_result",
          "data": {
            "text/html": [
              "<div>\n",
              "<style scoped>\n",
              "    .dataframe tbody tr th:only-of-type {\n",
              "        vertical-align: middle;\n",
              "    }\n",
              "\n",
              "    .dataframe tbody tr th {\n",
              "        vertical-align: top;\n",
              "    }\n",
              "\n",
              "    .dataframe thead th {\n",
              "        text-align: right;\n",
              "    }\n",
              "</style>\n",
              "<table border=\"1\" class=\"dataframe\">\n",
              "  <thead>\n",
              "    <tr style=\"text-align: right;\">\n",
              "      <th></th>\n",
              "      <th>indus</th>\n",
              "      <th>chas</th>\n",
              "      <th>nox</th>\n",
              "      <th>rm</th>\n",
              "      <th>age</th>\n",
              "      <th>dis</th>\n",
              "      <th>rad</th>\n",
              "      <th>tax</th>\n",
              "      <th>ptratio</th>\n",
              "      <th>lstat</th>\n",
              "      <th>medv</th>\n",
              "    </tr>\n",
              "  </thead>\n",
              "  <tbody>\n",
              "    <tr>\n",
              "      <th>count</th>\n",
              "      <td>333.000000</td>\n",
              "      <td>333.000000</td>\n",
              "      <td>333.000000</td>\n",
              "      <td>333.000000</td>\n",
              "      <td>333.000000</td>\n",
              "      <td>333.000000</td>\n",
              "      <td>333.000000</td>\n",
              "      <td>333.000000</td>\n",
              "      <td>333.000000</td>\n",
              "      <td>333.000000</td>\n",
              "      <td>333.000000</td>\n",
              "    </tr>\n",
              "    <tr>\n",
              "      <th>mean</th>\n",
              "      <td>11.293483</td>\n",
              "      <td>0.060060</td>\n",
              "      <td>0.557144</td>\n",
              "      <td>6.265619</td>\n",
              "      <td>68.226426</td>\n",
              "      <td>3.709934</td>\n",
              "      <td>9.633634</td>\n",
              "      <td>409.279279</td>\n",
              "      <td>18.448048</td>\n",
              "      <td>12.515435</td>\n",
              "      <td>22.768769</td>\n",
              "    </tr>\n",
              "    <tr>\n",
              "      <th>std</th>\n",
              "      <td>6.998123</td>\n",
              "      <td>0.237956</td>\n",
              "      <td>0.114955</td>\n",
              "      <td>0.703952</td>\n",
              "      <td>28.133344</td>\n",
              "      <td>1.981123</td>\n",
              "      <td>8.742174</td>\n",
              "      <td>170.841988</td>\n",
              "      <td>2.151821</td>\n",
              "      <td>7.067781</td>\n",
              "      <td>9.173468</td>\n",
              "    </tr>\n",
              "    <tr>\n",
              "      <th>min</th>\n",
              "      <td>0.740000</td>\n",
              "      <td>0.000000</td>\n",
              "      <td>0.385000</td>\n",
              "      <td>3.561000</td>\n",
              "      <td>6.000000</td>\n",
              "      <td>1.129600</td>\n",
              "      <td>1.000000</td>\n",
              "      <td>188.000000</td>\n",
              "      <td>12.600000</td>\n",
              "      <td>1.730000</td>\n",
              "      <td>5.000000</td>\n",
              "    </tr>\n",
              "    <tr>\n",
              "      <th>25%</th>\n",
              "      <td>5.130000</td>\n",
              "      <td>0.000000</td>\n",
              "      <td>0.453000</td>\n",
              "      <td>5.884000</td>\n",
              "      <td>45.400000</td>\n",
              "      <td>2.122400</td>\n",
              "      <td>4.000000</td>\n",
              "      <td>279.000000</td>\n",
              "      <td>17.400000</td>\n",
              "      <td>7.180000</td>\n",
              "      <td>17.400000</td>\n",
              "    </tr>\n",
              "    <tr>\n",
              "      <th>50%</th>\n",
              "      <td>9.900000</td>\n",
              "      <td>0.000000</td>\n",
              "      <td>0.538000</td>\n",
              "      <td>6.202000</td>\n",
              "      <td>76.700000</td>\n",
              "      <td>3.092300</td>\n",
              "      <td>5.000000</td>\n",
              "      <td>330.000000</td>\n",
              "      <td>19.000000</td>\n",
              "      <td>10.970000</td>\n",
              "      <td>21.600000</td>\n",
              "    </tr>\n",
              "    <tr>\n",
              "      <th>75%</th>\n",
              "      <td>18.100000</td>\n",
              "      <td>0.000000</td>\n",
              "      <td>0.631000</td>\n",
              "      <td>6.595000</td>\n",
              "      <td>93.800000</td>\n",
              "      <td>5.116700</td>\n",
              "      <td>24.000000</td>\n",
              "      <td>666.000000</td>\n",
              "      <td>20.200000</td>\n",
              "      <td>16.420000</td>\n",
              "      <td>25.000000</td>\n",
              "    </tr>\n",
              "    <tr>\n",
              "      <th>max</th>\n",
              "      <td>27.740000</td>\n",
              "      <td>1.000000</td>\n",
              "      <td>0.871000</td>\n",
              "      <td>8.725000</td>\n",
              "      <td>100.000000</td>\n",
              "      <td>10.710300</td>\n",
              "      <td>24.000000</td>\n",
              "      <td>711.000000</td>\n",
              "      <td>21.200000</td>\n",
              "      <td>37.970000</td>\n",
              "      <td>50.000000</td>\n",
              "    </tr>\n",
              "  </tbody>\n",
              "</table>\n",
              "</div>"
            ],
            "text/plain": [
              "            indus        chas         nox  ...     ptratio       lstat        medv\n",
              "count  333.000000  333.000000  333.000000  ...  333.000000  333.000000  333.000000\n",
              "mean    11.293483    0.060060    0.557144  ...   18.448048   12.515435   22.768769\n",
              "std      6.998123    0.237956    0.114955  ...    2.151821    7.067781    9.173468\n",
              "min      0.740000    0.000000    0.385000  ...   12.600000    1.730000    5.000000\n",
              "25%      5.130000    0.000000    0.453000  ...   17.400000    7.180000   17.400000\n",
              "50%      9.900000    0.000000    0.538000  ...   19.000000   10.970000   21.600000\n",
              "75%     18.100000    0.000000    0.631000  ...   20.200000   16.420000   25.000000\n",
              "max     27.740000    1.000000    0.871000  ...   21.200000   37.970000   50.000000\n",
              "\n",
              "[8 rows x 11 columns]"
            ]
          },
          "metadata": {
            "tags": []
          },
          "execution_count": 11
        }
      ]
    },
    {
      "cell_type": "code",
      "metadata": {
        "id": "tFED_beQrTVE",
        "colab_type": "code",
        "colab": {
          "base_uri": "https://localhost:8080/",
          "height": 386
        },
        "outputId": "1f2d6b2b-80c2-40c8-c6f0-94108cc42a0b"
      },
      "source": [
        "sns.lmplot('rm', 'medv', data)\n",
        "\n",
        "plt.xlabel(\"number of rooms per dwelling.\")\n",
        "plt.ylabel(\"median value of owner-occupied homes in $1000s.\")"
      ],
      "execution_count": 12,
      "outputs": [
        {
          "output_type": "execute_result",
          "data": {
            "text/plain": [
              "Text(1.6749999999999972, 0.5, 'median value of owner-occupied homes in $1000s.')"
            ]
          },
          "metadata": {
            "tags": []
          },
          "execution_count": 12
        },
        {
          "output_type": "display_data",
          "data": {
            "image/png": "[encoded data removed]",
            "text/plain": [
              "<Figure size 360x360 with 1 Axes>"
            ]
          },
          "metadata": {
            "tags": []
          }
        }
      ]
    },
    {
      "cell_type": "code",
      "metadata": {
        "id": "wMF7qQ6xra7c",
        "colab_type": "code",
        "colab": {
          "base_uri": "https://localhost:8080/",
          "height": 386
        },
        "outputId": "df5b50b5-254d-496b-a4bd-b007213c7416"
      },
      "source": [
        "sns.lmplot('age', 'medv', data)\n",
        "\n",
        "plt.xlabel(\"age of the dwelling\")\n",
        "plt.ylabel(\"median value of owner-occupied homes in $1000s\")"
      ],
      "execution_count": 13,
      "outputs": [
        {
          "output_type": "execute_result",
          "data": {
            "text/plain": [
              "Text(10.049999999999997, 0.5, 'median value of owner-occupied homes in $1000s')"
            ]
          },
          "metadata": {
            "tags": []
          },
          "execution_count": 13
        },
        {
          "output_type": "display_data",
          "data": {
            "image/png": "[encoded data removed]",
            "text/plain": [
              "<Figure size 360x360 with 1 Axes>"
            ]
          },
          "metadata": {
            "tags": []
          }
        }
      ]
    },
    {
      "cell_type": "code",
      "metadata": {
        "id": "ARYEVEwZrfyh",
        "colab_type": "code",
        "colab": {
          "base_uri": "https://localhost:8080/",
          "height": 386
        },
        "outputId": "33416eec-f7a2-46b5-d875-aa83ba1b7e49"
      },
      "source": [
        "sns.lmplot('ptratio', 'medv', data)\n",
        "\n",
        "plt.xlabel(\"pupil-teacher ratio.\")\n",
        "plt.ylabel(\"median value of owner-occupied homes in $1000s.\")"
      ],
      "execution_count": 14,
      "outputs": [
        {
          "output_type": "execute_result",
          "data": {
            "text/plain": [
              "Text(10.049999999999997, 0.5, 'median value of owner-occupied homes in $1000s.')"
            ]
          },
          "metadata": {
            "tags": []
          },
          "execution_count": 14
        },
        {
          "output_type": "display_data",
          "data": {
            "image/png": "[encoded data removed]",
            "text/plain": [
              "<Figure size 360x360 with 1 Axes>"
            ]
          },
          "metadata": {
            "tags": []
          }
        }
      ]
    },
    {
      "cell_type": "code",
      "metadata": {
        "id": "4KqFsIWyrjE9",
        "colab_type": "code",
        "colab": {
          "base_uri": "https://localhost:8080/",
          "height": 393
        },
        "outputId": "e89cc7d6-1b73-40e2-cad2-b36c941f7e77"
      },
      "source": [
        "correlation = data.corr()\n",
        "\n",
        "correlation"
      ],
      "execution_count": 15,
      "outputs": [
        {
          "output_type": "execute_result",
          "data": {
            "text/html": [
              "<div>\n",
              "<style scoped>\n",
              "    .dataframe tbody tr th:only-of-type {\n",
              "        vertical-align: middle;\n",
              "    }\n",
              "\n",
              "    .dataframe tbody tr th {\n",
              "        vertical-align: top;\n",
              "    }\n",
              "\n",
              "    .dataframe thead th {\n",
              "        text-align: right;\n",
              "    }\n",
              "</style>\n",
              "<table border=\"1\" class=\"dataframe\">\n",
              "  <thead>\n",
              "    <tr style=\"text-align: right;\">\n",
              "      <th></th>\n",
              "      <th>indus</th>\n",
              "      <th>chas</th>\n",
              "      <th>nox</th>\n",
              "      <th>rm</th>\n",
              "      <th>age</th>\n",
              "      <th>dis</th>\n",
              "      <th>rad</th>\n",
              "      <th>tax</th>\n",
              "      <th>ptratio</th>\n",
              "      <th>lstat</th>\n",
              "      <th>medv</th>\n",
              "    </tr>\n",
              "  </thead>\n",
              "  <tbody>\n",
              "    <tr>\n",
              "      <th>indus</th>\n",
              "      <td>1.000000</td>\n",
              "      <td>0.037496</td>\n",
              "      <td>0.750087</td>\n",
              "      <td>-0.440365</td>\n",
              "      <td>0.638378</td>\n",
              "      <td>-0.702327</td>\n",
              "      <td>0.569779</td>\n",
              "      <td>0.708313</td>\n",
              "      <td>0.391087</td>\n",
              "      <td>0.614155</td>\n",
              "      <td>-0.473932</td>\n",
              "    </tr>\n",
              "    <tr>\n",
              "      <th>chas</th>\n",
              "      <td>0.037496</td>\n",
              "      <td>1.000000</td>\n",
              "      <td>0.080275</td>\n",
              "      <td>0.112251</td>\n",
              "      <td>0.068286</td>\n",
              "      <td>-0.081834</td>\n",
              "      <td>0.007714</td>\n",
              "      <td>-0.021826</td>\n",
              "      <td>-0.125067</td>\n",
              "      <td>-0.050055</td>\n",
              "      <td>0.204390</td>\n",
              "    </tr>\n",
              "    <tr>\n",
              "      <th>nox</th>\n",
              "      <td>0.750087</td>\n",
              "      <td>0.080275</td>\n",
              "      <td>1.000000</td>\n",
              "      <td>-0.338515</td>\n",
              "      <td>0.736000</td>\n",
              "      <td>-0.769364</td>\n",
              "      <td>0.612180</td>\n",
              "      <td>0.670722</td>\n",
              "      <td>0.192513</td>\n",
              "      <td>0.598874</td>\n",
              "      <td>-0.413054</td>\n",
              "    </tr>\n",
              "    <tr>\n",
              "      <th>rm</th>\n",
              "      <td>-0.440365</td>\n",
              "      <td>0.112251</td>\n",
              "      <td>-0.338515</td>\n",
              "      <td>1.000000</td>\n",
              "      <td>-0.248573</td>\n",
              "      <td>0.269191</td>\n",
              "      <td>-0.272783</td>\n",
              "      <td>-0.356987</td>\n",
              "      <td>-0.366927</td>\n",
              "      <td>-0.615747</td>\n",
              "      <td>0.689598</td>\n",
              "    </tr>\n",
              "    <tr>\n",
              "      <th>age</th>\n",
              "      <td>0.638378</td>\n",
              "      <td>0.068286</td>\n",
              "      <td>0.736000</td>\n",
              "      <td>-0.248573</td>\n",
              "      <td>1.000000</td>\n",
              "      <td>-0.764208</td>\n",
              "      <td>0.447380</td>\n",
              "      <td>0.511893</td>\n",
              "      <td>0.259293</td>\n",
              "      <td>0.588834</td>\n",
              "      <td>-0.358888</td>\n",
              "    </tr>\n",
              "    <tr>\n",
              "      <th>dis</th>\n",
              "      <td>-0.702327</td>\n",
              "      <td>-0.081834</td>\n",
              "      <td>-0.769364</td>\n",
              "      <td>0.269191</td>\n",
              "      <td>-0.764208</td>\n",
              "      <td>1.000000</td>\n",
              "      <td>-0.477610</td>\n",
              "      <td>-0.529539</td>\n",
              "      <td>-0.231101</td>\n",
              "      <td>-0.505939</td>\n",
              "      <td>0.249422</td>\n",
              "    </tr>\n",
              "    <tr>\n",
              "      <th>rad</th>\n",
              "      <td>0.569779</td>\n",
              "      <td>0.007714</td>\n",
              "      <td>0.612180</td>\n",
              "      <td>-0.272783</td>\n",
              "      <td>0.447380</td>\n",
              "      <td>-0.477610</td>\n",
              "      <td>1.000000</td>\n",
              "      <td>0.903562</td>\n",
              "      <td>0.470849</td>\n",
              "      <td>0.484568</td>\n",
              "      <td>-0.352251</td>\n",
              "    </tr>\n",
              "    <tr>\n",
              "      <th>tax</th>\n",
              "      <td>0.708313</td>\n",
              "      <td>-0.021826</td>\n",
              "      <td>0.670722</td>\n",
              "      <td>-0.356987</td>\n",
              "      <td>0.511893</td>\n",
              "      <td>-0.529539</td>\n",
              "      <td>0.903562</td>\n",
              "      <td>1.000000</td>\n",
              "      <td>0.467437</td>\n",
              "      <td>0.544485</td>\n",
              "      <td>-0.448078</td>\n",
              "    </tr>\n",
              "    <tr>\n",
              "      <th>ptratio</th>\n",
              "      <td>0.391087</td>\n",
              "      <td>-0.125067</td>\n",
              "      <td>0.192513</td>\n",
              "      <td>-0.366927</td>\n",
              "      <td>0.259293</td>\n",
              "      <td>-0.231101</td>\n",
              "      <td>0.470849</td>\n",
              "      <td>0.467437</td>\n",
              "      <td>1.000000</td>\n",
              "      <td>0.374802</td>\n",
              "      <td>-0.481376</td>\n",
              "    </tr>\n",
              "    <tr>\n",
              "      <th>lstat</th>\n",
              "      <td>0.614155</td>\n",
              "      <td>-0.050055</td>\n",
              "      <td>0.598874</td>\n",
              "      <td>-0.615747</td>\n",
              "      <td>0.588834</td>\n",
              "      <td>-0.505939</td>\n",
              "      <td>0.484568</td>\n",
              "      <td>0.544485</td>\n",
              "      <td>0.374802</td>\n",
              "      <td>1.000000</td>\n",
              "      <td>-0.738600</td>\n",
              "    </tr>\n",
              "    <tr>\n",
              "      <th>medv</th>\n",
              "      <td>-0.473932</td>\n",
              "      <td>0.204390</td>\n",
              "      <td>-0.413054</td>\n",
              "      <td>0.689598</td>\n",
              "      <td>-0.358888</td>\n",
              "      <td>0.249422</td>\n",
              "      <td>-0.352251</td>\n",
              "      <td>-0.448078</td>\n",
              "      <td>-0.481376</td>\n",
              "      <td>-0.738600</td>\n",
              "      <td>1.000000</td>\n",
              "    </tr>\n",
              "  </tbody>\n",
              "</table>\n",
              "</div>"
            ],
            "text/plain": [
              "            indus      chas       nox  ...   ptratio     lstat      medv\n",
              "indus    1.000000  0.037496  0.750087  ...  0.391087  0.614155 -0.473932\n",
              "chas     0.037496  1.000000  0.080275  ... -0.125067 -0.050055  0.204390\n",
              "nox      0.750087  0.080275  1.000000  ...  0.192513  0.598874 -0.413054\n",
              "rm      -0.440365  0.112251 -0.338515  ... -0.366927 -0.615747  0.689598\n",
              "age      0.638378  0.068286  0.736000  ...  0.259293  0.588834 -0.358888\n",
              "dis     -0.702327 -0.081834 -0.769364  ... -0.231101 -0.505939  0.249422\n",
              "rad      0.569779  0.007714  0.612180  ...  0.470849  0.484568 -0.352251\n",
              "tax      0.708313 -0.021826  0.670722  ...  0.467437  0.544485 -0.448078\n",
              "ptratio  0.391087 -0.125067  0.192513  ...  1.000000  0.374802 -0.481376\n",
              "lstat    0.614155 -0.050055  0.598874  ...  0.374802  1.000000 -0.738600\n",
              "medv    -0.473932  0.204390 -0.413054  ... -0.481376 -0.738600  1.000000\n",
              "\n",
              "[11 rows x 11 columns]"
            ]
          },
          "metadata": {
            "tags": []
          },
          "execution_count": 15
        }
      ]
    },
    {
      "cell_type": "code",
      "metadata": {
        "id": "5dWBjRE8rmfx",
        "colab_type": "code",
        "colab": {
          "base_uri": "https://localhost:8080/",
          "height": 483
        },
        "outputId": "c406047f-bbb6-426f-f169-0715566b80dd"
      },
      "source": [
        "plt.subplots(figsize=(10, 8))\n",
        "sns.heatmap(correlation, annot=True)\n",
        "\n",
        "plt.show()"
      ],
      "execution_count": 16,
      "outputs": [
        {
          "output_type": "display_data",
          "data": {
            "image/png": "[encoded data removed]",
            "text/plain": [
              "<Figure size 720x576 with 2 Axes>"
            ]
          },
          "metadata": {
            "tags": []
          }
        }
      ]
    },
    {
      "cell_type": "code",
      "metadata": {
        "id": "hfrsLjBSrqr8",
        "colab_type": "code",
        "colab": {}
      },
      "source": [
        "from sklearn.linear_model import LinearRegression\n",
        "from sklearn.model_selection import train_test_split"
      ],
      "execution_count": 0,
      "outputs": []
    },
    {
      "cell_type": "code",
      "metadata": {
        "id": "JSIKsIXUr2j9",
        "colab_type": "code",
        "colab": {}
      },
      "source": [
        "X = data.drop('medv', axis=1)\n",
        "Y = data['medv']\n",
        "\n",
        "x_train, x_test, y_train, y_test = train_test_split(X, Y, test_size = 0.2, random_state = 0)"
      ],
      "execution_count": 0,
      "outputs": []
    },
    {
      "cell_type": "code",
      "metadata": {
        "id": "A-mJT8wBr44d",
        "colab_type": "code",
        "colab": {
          "base_uri": "https://localhost:8080/",
          "height": 34
        },
        "outputId": "00b3ba37-2721-4fdc-af81-5a5f8d239e5d"
      },
      "source": [
        "x_train.shape, y_train.shape"
      ],
      "execution_count": 19,
      "outputs": [
        {
          "output_type": "execute_result",
          "data": {
            "text/plain": [
              "((266, 10), (266,))"
            ]
          },
          "metadata": {
            "tags": []
          },
          "execution_count": 19
        }
      ]
    },
    {
      "cell_type": "code",
      "metadata": {
        "id": "VqSwy-e0r7Uk",
        "colab_type": "code",
        "colab": {
          "base_uri": "https://localhost:8080/",
          "height": 34
        },
        "outputId": "ef09fa51-2e72-4707-b97b-2fbc1181318e"
      },
      "source": [
        "linear_regression = LinearRegression()\n",
        "\n",
        "linear_regression.fit(x_train, y_train)"
      ],
      "execution_count": 21,
      "outputs": [
        {
          "output_type": "execute_result",
          "data": {
            "text/plain": [
              "LinearRegression(copy_X=True, fit_intercept=True, n_jobs=None, normalize=False)"
            ]
          },
          "metadata": {
            "tags": []
          },
          "execution_count": 21
        }
      ]
    },
    {
      "cell_type": "code",
      "metadata": {
        "id": "Xb4fwKjqsHTY",
        "colab_type": "code",
        "colab": {
          "base_uri": "https://localhost:8080/",
          "height": 252
        },
        "outputId": "a09fa827-8ba7-400f-bac2-695d2de33698"
      },
      "source": [
        "y_pred = linear_regression.predict(x_test)\n",
        "\n",
        "y_pred"
      ],
      "execution_count": 22,
      "outputs": [
        {
          "output_type": "execute_result",
          "data": {
            "text/plain": [
              "array([25.28659457, 28.57303764, 15.80275488, 12.97116825, 22.44697113,\n",
              "       25.84170951, 27.20057539, 18.91085253, 26.19709511, 20.28276254,\n",
              "       17.05969415, 25.26024706, 30.80682063, 37.12729863, 15.21833837,\n",
              "       33.18291063, 22.39997261, 25.74162379, 25.0195504 , 23.98978558,\n",
              "       19.38274011, 19.46275505, 19.28853185,  5.01746847, 15.82210828,\n",
              "       22.75937428, 26.96913154, 38.0985833 , 24.05918381, 25.00816864,\n",
              "       13.63516153, 34.8525424 , 35.85423056, 20.97640409, 23.95028738,\n",
              "       12.39041715, 24.7975901 ,  7.0509203 , 20.81358851, 27.3221854 ,\n",
              "       20.62258606, 26.08272627, 26.35831448, 20.23324227, 21.32142227,\n",
              "       29.04746247, 26.02230689, 29.28581985, 22.02729511, 16.98962646,\n",
              "       38.41999055, 23.37075991, 22.82358094, 17.87904935, 26.59608259,\n",
              "       21.86379968, 15.70849358, 17.85231653, 30.24900233, 28.29020911,\n",
              "       31.41839805, 43.12399696, 23.28794298, 17.72371626, 15.27274181,\n",
              "       25.61612834, 25.90338823])"
            ]
          },
          "metadata": {
            "tags": []
          },
          "execution_count": 22
        }
      ]
    },
    {
      "cell_type": "code",
      "metadata": {
        "id": "4j9UqqPTsS3O",
        "colab_type": "code",
        "colab": {
          "base_uri": "https://localhost:8080/",
          "height": 373
        },
        "outputId": "c7f91d23-c6d8-4120-a9a6-e550f5372381"
      },
      "source": [
        "df_y = pd.DataFrame({'y_test' : y_test, 'y_pred' : y_pred})\n",
        "\n",
        "df_y.sample(10)"
      ],
      "execution_count": 23,
      "outputs": [
        {
          "output_type": "execute_result",
          "data": {
            "text/html": [
              "<div>\n",
              "<style scoped>\n",
              "    .dataframe tbody tr th:only-of-type {\n",
              "        vertical-align: middle;\n",
              "    }\n",
              "\n",
              "    .dataframe tbody tr th {\n",
              "        vertical-align: top;\n",
              "    }\n",
              "\n",
              "    .dataframe thead th {\n",
              "        text-align: right;\n",
              "    }\n",
              "</style>\n",
              "<table border=\"1\" class=\"dataframe\">\n",
              "  <thead>\n",
              "    <tr style=\"text-align: right;\">\n",
              "      <th></th>\n",
              "      <th>y_test</th>\n",
              "      <th>y_pred</th>\n",
              "    </tr>\n",
              "    <tr>\n",
              "      <th>ID</th>\n",
              "      <th></th>\n",
              "      <th></th>\n",
              "    </tr>\n",
              "  </thead>\n",
              "  <tbody>\n",
              "    <tr>\n",
              "      <th>23</th>\n",
              "      <td>15.2</td>\n",
              "      <td>15.218338</td>\n",
              "    </tr>\n",
              "    <tr>\n",
              "      <th>434</th>\n",
              "      <td>14.3</td>\n",
              "      <td>18.910853</td>\n",
              "    </tr>\n",
              "    <tr>\n",
              "      <th>88</th>\n",
              "      <td>22.2</td>\n",
              "      <td>26.596083</td>\n",
              "    </tr>\n",
              "    <tr>\n",
              "      <th>102</th>\n",
              "      <td>26.5</td>\n",
              "      <td>26.022307</td>\n",
              "    </tr>\n",
              "    <tr>\n",
              "      <th>118</th>\n",
              "      <td>19.2</td>\n",
              "      <td>23.989786</td>\n",
              "    </tr>\n",
              "    <tr>\n",
              "      <th>461</th>\n",
              "      <td>16.4</td>\n",
              "      <td>19.288532</td>\n",
              "    </tr>\n",
              "    <tr>\n",
              "      <th>419</th>\n",
              "      <td>8.8</td>\n",
              "      <td>15.822108</td>\n",
              "    </tr>\n",
              "    <tr>\n",
              "      <th>263</th>\n",
              "      <td>48.8</td>\n",
              "      <td>38.419991</td>\n",
              "    </tr>\n",
              "    <tr>\n",
              "      <th>344</th>\n",
              "      <td>23.9</td>\n",
              "      <td>26.082726</td>\n",
              "    </tr>\n",
              "    <tr>\n",
              "      <th>372</th>\n",
              "      <td>50.0</td>\n",
              "      <td>25.903388</td>\n",
              "    </tr>\n",
              "  </tbody>\n",
              "</table>\n",
              "</div>"
            ],
            "text/plain": [
              "     y_test     y_pred\n",
              "ID                    \n",
              "23     15.2  15.218338\n",
              "434    14.3  18.910853\n",
              "88     22.2  26.596083\n",
              "102    26.5  26.022307\n",
              "118    19.2  23.989786\n",
              "461    16.4  19.288532\n",
              "419     8.8  15.822108\n",
              "263    48.8  38.419991\n",
              "344    23.9  26.082726\n",
              "372    50.0  25.903388"
            ]
          },
          "metadata": {
            "tags": []
          },
          "execution_count": 23
        }
      ]
    },
    {
      "cell_type": "code",
      "metadata": {
        "id": "UFFkCg69sXBn",
        "colab_type": "code",
        "colab": {
          "base_uri": "https://localhost:8080/",
          "height": 34
        },
        "outputId": "fabd3e92-63e0-4843-ac3f-2f318e9e7a1a"
      },
      "source": [
        "print(\"Training score : \", linear_regression.score(x_train, y_train))"
      ],
      "execution_count": 24,
      "outputs": [
        {
          "output_type": "stream",
          "text": [
            "Training score :  0.7165238743004549\n"
          ],
          "name": "stdout"
        }
      ]
    },
    {
      "cell_type": "code",
      "metadata": {
        "id": "01oHd0UGsZ3n",
        "colab_type": "code",
        "colab": {
          "base_uri": "https://localhost:8080/",
          "height": 34
        },
        "outputId": "f4ef1a20-a4e3-4909-d775-47b729ed8aa2"
      },
      "source": [
        "from sklearn.metrics import r2_score\n",
        "\n",
        "score = r2_score(y_test, y_pred)\n",
        "\n",
        "print(\"Testing score : \", score)"
      ],
      "execution_count": 25,
      "outputs": [
        {
          "output_type": "stream",
          "text": [
            "Testing score :  0.6940069129106308\n"
          ],
          "name": "stdout"
        }
      ]
    },
    {
      "cell_type": "code",
      "metadata": {
        "id": "ow8qBvTVseAK",
        "colab_type": "code",
        "colab": {}
      },
      "source": [
        "### Graph between predicted and actual values"
      ],
      "execution_count": 0,
      "outputs": []
    },
    {
      "cell_type": "code",
      "metadata": {
        "id": "UN0f4TREssz_",
        "colab_type": "code",
        "colab": {}
      },
      "source": [
        ""
      ],
      "execution_count": 0,
      "outputs": []
    },
    {
      "cell_type": "markdown",
      "metadata": {
        "id": "Oh4ErAaFsun8",
        "colab_type": "text"
      },
      "source": [
        "### Graph between predicted and actual values"
      ]
    },
    {
      "cell_type": "code",
      "metadata": {
        "id": "6Ngo2Miyswgl",
        "colab_type": "code",
        "colab": {
          "base_uri": "https://localhost:8080/",
          "height": 483
        },
        "outputId": "25398e94-dc90-4388-d1c4-78d939c850eb"
      },
      "source": [
        "plt.subplots(figsize=(10,8))\n",
        "\n",
        "plt.plot(y_pred, label=\"Prediction\")\n",
        "plt.plot(y_test.values, label=\"Actual\")\n",
        "\n",
        "plt.legend()\n",
        "\n",
        "plt.show()"
      ],
      "execution_count": 27,
      "outputs": [
        {
          "output_type": "display_data",
          "data": {
            "image/png": "[encoded data removed]",
            "text/plain": [
              "<Figure size 720x576 with 1 Axes>"
            ]
          },
          "metadata": {
            "tags": []
          }
        }
      ]
    },
    {
      "cell_type": "code",
      "metadata": {
        "id": "0WO8OgCLs0_q",
        "colab_type": "code",
        "colab": {}
      },
      "source": [
        ""
      ],
      "execution_count": 0,
      "outputs": []
    },
    {
      "cell_type": "markdown",
      "metadata": {
        "id": "cAtmju3Is6Ts",
        "colab_type": "text"
      },
      "source": [
        "Ordinary least squares"
      ]
    },
    {
      "cell_type": "code",
      "metadata": {
        "id": "oUq8cUy2s7rA",
        "colab_type": "code",
        "colab": {}
      },
      "source": [
        "import numpy as np\n",
        "import statsmodels.api as sm"
      ],
      "execution_count": 0,
      "outputs": []
    },
    {
      "cell_type": "code",
      "metadata": {
        "id": "yvMB2_2Vs93d",
        "colab_type": "code",
        "colab": {
          "base_uri": "https://localhost:8080/",
          "height": 185
        },
        "outputId": "853b2997-b6c6-4fae-db99-34f8b7d4d9ff"
      },
      "source": [
        "X = np.array(X)\n",
        "\n",
        "X[:5]"
      ],
      "execution_count": 29,
      "outputs": [
        {
          "output_type": "execute_result",
          "data": {
            "text/plain": [
              "array([[  2.31  ,   0.    ,   0.538 ,   6.575 ,  65.2   ,   4.09  ,\n",
              "          1.    , 296.    ,  15.3   ,   4.98  ],\n",
              "       [  7.07  ,   0.    ,   0.469 ,   6.421 ,  78.9   ,   4.9671,\n",
              "          2.    , 242.    ,  17.8   ,   9.14  ],\n",
              "       [  2.18  ,   0.    ,   0.458 ,   6.998 ,  45.8   ,   6.0622,\n",
              "          3.    , 222.    ,  18.7   ,   2.94  ],\n",
              "       [  2.18  ,   0.    ,   0.458 ,   7.147 ,  54.2   ,   6.0622,\n",
              "          3.    , 222.    ,  18.7   ,   5.33  ],\n",
              "       [  7.87  ,   0.    ,   0.524 ,   6.012 ,  66.6   ,   5.5605,\n",
              "          5.    , 311.    ,  15.2   ,  12.43  ]])"
            ]
          },
          "metadata": {
            "tags": []
          },
          "execution_count": 29
        }
      ]
    },
    {
      "cell_type": "code",
      "metadata": {
        "id": "7M4PvqxFtArO",
        "colab_type": "code",
        "colab": {
          "base_uri": "https://localhost:8080/",
          "height": 185
        },
        "outputId": "4f09aef0-e55b-474a-dead-db544ce73aee"
      },
      "source": [
        "X = np.array(X)\n",
        "\n",
        "X[:5]"
      ],
      "execution_count": 30,
      "outputs": [
        {
          "output_type": "execute_result",
          "data": {
            "text/plain": [
              "array([[  2.31  ,   0.    ,   0.538 ,   6.575 ,  65.2   ,   4.09  ,\n",
              "          1.    , 296.    ,  15.3   ,   4.98  ],\n",
              "       [  7.07  ,   0.    ,   0.469 ,   6.421 ,  78.9   ,   4.9671,\n",
              "          2.    , 242.    ,  17.8   ,   9.14  ],\n",
              "       [  2.18  ,   0.    ,   0.458 ,   6.998 ,  45.8   ,   6.0622,\n",
              "          3.    , 222.    ,  18.7   ,   2.94  ],\n",
              "       [  2.18  ,   0.    ,   0.458 ,   7.147 ,  54.2   ,   6.0622,\n",
              "          3.    , 222.    ,  18.7   ,   5.33  ],\n",
              "       [  7.87  ,   0.    ,   0.524 ,   6.012 ,  66.6   ,   5.5605,\n",
              "          5.    , 311.    ,  15.2   ,  12.43  ]])"
            ]
          },
          "metadata": {
            "tags": []
          },
          "execution_count": 30
        }
      ]
    },
    {
      "cell_type": "code",
      "metadata": {
        "id": "jwvw9HJftM13",
        "colab_type": "code",
        "colab": {
          "base_uri": "https://localhost:8080/",
          "height": 619
        },
        "outputId": "d60e8e35-eec0-46ac-c8b7-8e8801bfdf52"
      },
      "source": [
        "model = sm.OLS(Y, X).fit()\n",
        "\n",
        "model.summary()"
      ],
      "execution_count": 32,
      "outputs": [
        {
          "output_type": "execute_result",
          "data": {
            "text/html": [
              "<table class=\"simpletable\">\n",
              "<caption>OLS Regression Results</caption>\n",
              "<tr>\n",
              "  <th>Dep. Variable:</th>          <td>medv</td>       <th>  R-squared (uncentered):</th>      <td>   0.955</td> \n",
              "</tr>\n",
              "<tr>\n",
              "  <th>Model:</th>                   <td>OLS</td>       <th>  Adj. R-squared (uncentered):</th> <td>   0.954</td> \n",
              "</tr>\n",
              "<tr>\n",
              "  <th>Method:</th>             <td>Least Squares</td>  <th>  F-statistic:       </th>          <td>   685.8</td> \n",
              "</tr>\n",
              "<tr>\n",
              "  <th>Date:</th>             <td>Thu, 02 Jan 2020</td> <th>  Prob (F-statistic):</th>          <td>7.35e-211</td>\n",
              "</tr>\n",
              "<tr>\n",
              "  <th>Time:</th>                 <td>19:21:51</td>     <th>  Log-Likelihood:    </th>          <td> -1021.8</td> \n",
              "</tr>\n",
              "<tr>\n",
              "  <th>No. Observations:</th>      <td>   333</td>      <th>  AIC:               </th>          <td>   2064.</td> \n",
              "</tr>\n",
              "<tr>\n",
              "  <th>Df Residuals:</th>          <td>   323</td>      <th>  BIC:               </th>          <td>   2102.</td> \n",
              "</tr>\n",
              "<tr>\n",
              "  <th>Df Model:</th>              <td>    10</td>      <th>                     </th>              <td> </td>    \n",
              "</tr>\n",
              "<tr>\n",
              "  <th>Covariance Type:</th>      <td>nonrobust</td>    <th>                     </th>              <td> </td>    \n",
              "</tr>\n",
              "</table>\n",
              "<table class=\"simpletable\">\n",
              "<tr>\n",
              "   <td></td>      <th>coef</th>     <th>std err</th>      <th>t</th>      <th>P>|t|</th>  <th>[0.025</th>    <th>0.975]</th>  \n",
              "</tr>\n",
              "<tr>\n",
              "  <th>x1</th>  <td>   -0.0099</td> <td>    0.080</td> <td>   -0.123</td> <td> 0.902</td> <td>   -0.168</td> <td>    0.148</td>\n",
              "</tr>\n",
              "<tr>\n",
              "  <th>x2</th>  <td>    4.3339</td> <td>    1.252</td> <td>    3.461</td> <td> 0.001</td> <td>    1.871</td> <td>    6.797</td>\n",
              "</tr>\n",
              "<tr>\n",
              "  <th>x3</th>  <td>    0.5935</td> <td>    4.395</td> <td>    0.135</td> <td> 0.893</td> <td>   -8.053</td> <td>    9.240</td>\n",
              "</tr>\n",
              "<tr>\n",
              "  <th>x4</th>  <td>    6.2482</td> <td>    0.401</td> <td>   15.591</td> <td> 0.000</td> <td>    5.460</td> <td>    7.037</td>\n",
              "</tr>\n",
              "<tr>\n",
              "  <th>x5</th>  <td>   -0.0157</td> <td>    0.018</td> <td>   -0.858</td> <td> 0.391</td> <td>   -0.052</td> <td>    0.020</td>\n",
              "</tr>\n",
              "<tr>\n",
              "  <th>x6</th>  <td>   -0.6503</td> <td>    0.250</td> <td>   -2.597</td> <td> 0.010</td> <td>   -1.143</td> <td>   -0.158</td>\n",
              "</tr>\n",
              "<tr>\n",
              "  <th>x7</th>  <td>    0.0869</td> <td>    0.080</td> <td>    1.092</td> <td> 0.276</td> <td>   -0.070</td> <td>    0.244</td>\n",
              "</tr>\n",
              "<tr>\n",
              "  <th>x8</th>  <td>   -0.0066</td> <td>    0.005</td> <td>   -1.385</td> <td> 0.167</td> <td>   -0.016</td> <td>    0.003</td>\n",
              "</tr>\n",
              "<tr>\n",
              "  <th>x9</th>  <td>   -0.2626</td> <td>    0.130</td> <td>   -2.024</td> <td> 0.044</td> <td>   -0.518</td> <td>   -0.007</td>\n",
              "</tr>\n",
              "<tr>\n",
              "  <th>x10</th> <td>   -0.5386</td> <td>    0.065</td> <td>   -8.321</td> <td> 0.000</td> <td>   -0.666</td> <td>   -0.411</td>\n",
              "</tr>\n",
              "</table>\n",
              "<table class=\"simpletable\">\n",
              "<tr>\n",
              "  <th>Omnibus:</th>       <td>141.333</td> <th>  Durbin-Watson:     </th> <td>   0.896</td> \n",
              "</tr>\n",
              "<tr>\n",
              "  <th>Prob(Omnibus):</th> <td> 0.000</td>  <th>  Jarque-Bera (JB):  </th> <td> 757.422</td> \n",
              "</tr>\n",
              "<tr>\n",
              "  <th>Skew:</th>          <td> 1.709</td>  <th>  Prob(JB):          </th> <td>3.37e-165</td>\n",
              "</tr>\n",
              "<tr>\n",
              "  <th>Kurtosis:</th>      <td> 9.551</td>  <th>  Cond. No.          </th> <td>6.83e+03</td> \n",
              "</tr>\n",
              "</table><br/><br/>Warnings:<br/>[1] Standard Errors assume that the covariance matrix of the errors is correctly specified.<br/>[2] The condition number is large, 6.83e+03. This might indicate that there are<br/>strong multicollinearity or other numerical problems."
            ],
            "text/plain": [
              "<class 'statsmodels.iolib.summary.Summary'>\n",
              "\"\"\"\n",
              "                                 OLS Regression Results                                \n",
              "=======================================================================================\n",
              "Dep. Variable:                   medv   R-squared (uncentered):                   0.955\n",
              "Model:                            OLS   Adj. R-squared (uncentered):              0.954\n",
              "Method:                 Least Squares   F-statistic:                              685.8\n",
              "Date:                Thu, 02 Jan 2020   Prob (F-statistic):                   7.35e-211\n",
              "Time:                        19:21:51   Log-Likelihood:                         -1021.8\n",
              "No. Observations:                 333   AIC:                                      2064.\n",
              "Df Residuals:                     323   BIC:                                      2102.\n",
              "Df Model:                          10                                                  \n",
              "Covariance Type:            nonrobust                                                  \n",
              "==============================================================================\n",
              "                 coef    std err          t      P>|t|      [0.025      0.975]\n",
              "------------------------------------------------------------------------------\n",
              "x1            -0.0099      0.080     -0.123      0.902      -0.168       0.148\n",
              "x2             4.3339      1.252      3.461      0.001       1.871       6.797\n",
              "x3             0.5935      4.395      0.135      0.893      -8.053       9.240\n",
              "x4             6.2482      0.401     15.591      0.000       5.460       7.037\n",
              "x5            -0.0157      0.018     -0.858      0.391      -0.052       0.020\n",
              "x6            -0.6503      0.250     -2.597      0.010      -1.143      -0.158\n",
              "x7             0.0869      0.080      1.092      0.276      -0.070       0.244\n",
              "x8            -0.0066      0.005     -1.385      0.167      -0.016       0.003\n",
              "x9            -0.2626      0.130     -2.024      0.044      -0.518      -0.007\n",
              "x10           -0.5386      0.065     -8.321      0.000      -0.666      -0.411\n",
              "==============================================================================\n",
              "Omnibus:                      141.333   Durbin-Watson:                   0.896\n",
              "Prob(Omnibus):                  0.000   Jarque-Bera (JB):              757.422\n",
              "Skew:                           1.709   Prob(JB):                    3.37e-165\n",
              "Kurtosis:                       9.551   Cond. No.                     6.83e+03\n",
              "==============================================================================\n",
              "\n",
              "Warnings:\n",
              "[1] Standard Errors assume that the covariance matrix of the errors is correctly specified.\n",
              "[2] The condition number is large, 6.83e+03. This might indicate that there are\n",
              "strong multicollinearity or other numerical problems.\n",
              "\"\"\""
            ]
          },
          "metadata": {
            "tags": []
          },
          "execution_count": 32
        }
      ]
    },
    {
      "cell_type": "code",
      "metadata": {
        "id": "DhZXCQFctNbr",
        "colab_type": "code",
        "colab": {}
      },
      "source": [
        ""
      ],
      "execution_count": 0,
      "outputs": []
    }
  ]
}